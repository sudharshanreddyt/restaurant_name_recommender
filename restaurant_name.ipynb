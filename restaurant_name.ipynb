{
 "cells": [
  {
   "cell_type": "code",
   "execution_count": 28,
   "id": "f3a1aa21",
   "metadata": {},
   "outputs": [],
   "source": [
    "import os\n",
    "from dotenv import load_dotenv"
   ]
  },
  {
   "cell_type": "code",
   "execution_count": 29,
   "id": "31ba9e96",
   "metadata": {},
   "outputs": [],
   "source": [
    "load_dotenv()\n",
    "GROQ_API_KEY = os.getenv(\"GROQ_API_KEY\")"
   ]
  },
  {
   "cell_type": "code",
   "execution_count": 30,
   "id": "c9c4ff93",
   "metadata": {},
   "outputs": [],
   "source": [
    "from langchain.chat_models import init_chat_model\n",
    "\n",
    "model = init_chat_model(model=\"llama-3.1-8b-instant\", model_provider=\"groq\")"
   ]
  },
  {
   "cell_type": "code",
   "execution_count": 31,
   "id": "8b31e892",
   "metadata": {},
   "outputs": [
    {
     "name": "stdout",
     "output_type": "stream",
     "text": [
      "content='\"Tandoori Nights\"' additional_kwargs={} response_metadata={'token_usage': {'completion_tokens': 6, 'prompt_tokens': 60, 'total_tokens': 66, 'completion_time': 0.011615561, 'prompt_time': 0.00437065, 'queue_time': 0.266416607, 'total_time': 0.015986211}, 'model_name': 'llama-3.1-8b-instant', 'system_fingerprint': 'fp_ab04adca7d', 'service_tier': 'on_demand', 'finish_reason': 'stop', 'logprobs': None} id='run--c34e0295-c541-436f-92e3-1a0c8d77dc32-0' usage_metadata={'input_tokens': 60, 'output_tokens': 6, 'total_tokens': 66}\n"
     ]
    }
   ],
   "source": [
    "name = model.invoke(\"I want to open a restaurant for Indian food. Suggest me one fancy name for this (in 3 words maximum).\")\n",
    "print(name)"
   ]
  },
  {
   "cell_type": "code",
   "execution_count": 32,
   "id": "cac12310",
   "metadata": {},
   "outputs": [],
   "source": [
    "from langchain_core.prompts import PromptTemplate"
   ]
  },
  {
   "cell_type": "code",
   "execution_count": 33,
   "id": "4b9fe7b7",
   "metadata": {},
   "outputs": [],
   "source": [
    "system_template = \"Suggest one fancy and unique restaurant name (maximum 3 words) for a restaurant specializing in {cuisine} cuisine. Respond with only the name, nothing else.\"\n",
    "\n",
    "prompt_template_name = PromptTemplate.from_template(system_template)"
   ]
  },
  {
   "cell_type": "code",
   "execution_count": 34,
   "id": "2b0f4e63",
   "metadata": {},
   "outputs": [
    {
     "data": {
      "text/plain": [
       "StringPromptValue(text='Suggest one fancy and unique restaurant name (maximum 3 words) for a restaurant specializing in Italian cuisine. Respond with only the name, nothing else.')"
      ]
     },
     "execution_count": 34,
     "metadata": {},
     "output_type": "execute_result"
    }
   ],
   "source": [
    "prompt_template_name.invoke({\"cuisine\": \"Italian\"})"
   ]
  },
  {
   "cell_type": "code",
   "execution_count": 35,
   "id": "fec33b95",
   "metadata": {},
   "outputs": [],
   "source": [
    "from langchain_core.output_parsers import StrOutputParser"
   ]
  },
  {
   "cell_type": "code",
   "execution_count": 36,
   "id": "8c3729f9",
   "metadata": {},
   "outputs": [
    {
     "data": {
      "text/plain": [
       "'Midnight Maha Bazaar'"
      ]
     },
     "execution_count": 36,
     "metadata": {},
     "output_type": "execute_result"
    }
   ],
   "source": [
    "chain_name = prompt_template_name | model | StrOutputParser()\n",
    "chain_name.invoke({\"cuisine\": \"Indian\"})"
   ]
  },
  {
   "cell_type": "markdown",
   "id": "41fb8c41",
   "metadata": {},
   "source": [
    "**Generate menu items from the restaurant name.**"
   ]
  },
  {
   "cell_type": "code",
   "execution_count": 37,
   "id": "b9855916",
   "metadata": {},
   "outputs": [
    {
     "data": {
      "text/plain": [
       "AIMessage(content='Samosas, Chicken Tikka, Biryani, Tandoori Chicken, Palak Paneer, Baingan Bharta, Garlic Naan, Gobhi Manchurian, Mysore Dosa, Raita, Hyderabadi Haleem, Vegetable Korma, Malabar Lamb Curry.', additional_kwargs={}, response_metadata={'token_usage': {'completion_tokens': 68, 'prompt_tokens': 63, 'total_tokens': 131, 'completion_time': 0.102040435, 'prompt_time': 0.003411263, 'queue_time': 0.216736579, 'total_time': 0.105451698}, 'model_name': 'llama-3.1-8b-instant', 'system_fingerprint': 'fp_33e8adf159', 'service_tier': 'on_demand', 'finish_reason': 'stop', 'logprobs': None}, id='run--a6b69223-f962-4a88-b7bc-e21f62b4f21f-0', usage_metadata={'input_tokens': 63, 'output_tokens': 68, 'total_tokens': 131})"
      ]
     },
     "execution_count": 37,
     "metadata": {},
     "output_type": "execute_result"
    }
   ],
   "source": [
    "model.invoke(\"Suggest menu items for 'Mumbai Spice Bazaar'. Respond with only a comma-separated list of items, no explanations or extra text.\")"
   ]
  },
  {
   "cell_type": "code",
   "execution_count": 38,
   "id": "56c08b46",
   "metadata": {},
   "outputs": [],
   "source": [
    "menu_items_template = \"Suggest menu items for {restaurant_name}. Respond with only a comma-separated list of 10 items, no explanations or extra text.\"\n",
    "prompt_template_menu = PromptTemplate.from_template(menu_items_template)"
   ]
  },
  {
   "cell_type": "code",
   "execution_count": 39,
   "id": "15149879",
   "metadata": {},
   "outputs": [
    {
     "data": {
      "text/plain": [
       "StringPromptValue(text='Suggest menu items for Mumbai Spice Bazaar. Respond with only a comma-separated list of 10 items, no explanations or extra text.')"
      ]
     },
     "execution_count": 39,
     "metadata": {},
     "output_type": "execute_result"
    }
   ],
   "source": [
    "prompt_template_menu.invoke({\"restaurant_name\": \"Mumbai Spice Bazaar\"})"
   ]
  },
  {
   "cell_type": "code",
   "execution_count": null,
   "id": "0d72ce57",
   "metadata": {},
   "outputs": [
    {
     "name": "stdout",
     "output_type": "stream",
     "text": [
      "Spiced Lamb Koftas, Chicken Tikka Masala, Saffron Risotto, Cardamom Crème Brûlée, Garam Masala Wings, Kashmiri Chicken, Moroccan Chickpea Stew, Coconut Shrimp Curry, Ras el Hanout Falafel, Star Anise Beef Tacos\n"
     ]
    }
   ],
   "source": [
    "chain_menu = prompt_template_menu | model | StrOutputParser()\n",
    "\n",
    "chain_restaurant_menu = {\"restaurant_name\" : chain_name} | chain_menu"
   ]
  },
  {
   "cell_type": "code",
   "execution_count": 48,
   "id": "a959740c",
   "metadata": {},
   "outputs": [
    {
     "name": "stdout",
     "output_type": "stream",
     "text": [
      "Butter Chicken, Chicken Tikka Masala, Palak Paneer, Saag Aloo, Vegetable Biryani, Tandoori Chicken, Malai Kofta, Baingan Bharta, Chana Masala, Hyderabadi Dum Biryani\n"
     ]
    }
   ],
   "source": [
    "response = chain_restaurant_menu.invoke({\"cuisine\": \"Indian\"})\n",
    "\n",
    "print(response)"
   ]
  },
  {
   "cell_type": "code",
   "execution_count": 77,
   "id": "9a581c86",
   "metadata": {},
   "outputs": [],
   "source": [
    "from langchain_core.runnables import RunnablePassthrough"
   ]
  },
  {
   "cell_type": "code",
   "execution_count": 78,
   "id": "f26d312f",
   "metadata": {},
   "outputs": [
    {
     "name": "stdout",
     "output_type": "stream",
     "text": [
      "{'restaurant_name': '\"Maharaja\\'s Spice Court\"', 'menu_items': 'Chicken Tikka Masala, Palak Paneer, Naan Bread, Biryani, Butter Chicken, Samosas, Raita, Gulab Jamun, Tandoori Chicken, Ras Malai'}\n"
     ]
    }
   ],
   "source": [
    "#  For both the outputs\n",
    "full_chain = {\"restaurant_name\" : chain_name} | RunnablePassthrough.assign(menu_items = chain_menu)\n",
    "\n",
    "result = full_chain.invoke({\"cuisine\": \"Indian\"})\n",
    "print(result)"
   ]
  },
  {
   "cell_type": "code",
   "execution_count": 79,
   "id": "2403c4bd",
   "metadata": {},
   "outputs": [],
   "source": [
    "description_template = \"Write a short and simple 2-sentence description for {restaurant_name} that serves: {menu_items}\"\n",
    "\n",
    "prompt_template_description = PromptTemplate.from_template(description_template)"
   ]
  },
  {
   "cell_type": "code",
   "execution_count": 80,
   "id": "fe46dc05",
   "metadata": {},
   "outputs": [],
   "source": [
    "chain_description = prompt_template_description | model | StrOutputParser()"
   ]
  },
  {
   "cell_type": "code",
   "execution_count": 81,
   "id": "9db0fbfa",
   "metadata": {},
   "outputs": [],
   "source": [
    "combined_chain = {\"restaurant_name\" : chain_name} | RunnablePassthrough.assign(menu_items = chain_menu) | RunnablePassthrough.assign(description = chain_description)"
   ]
  },
  {
   "cell_type": "code",
   "execution_count": 82,
   "id": "cc7988a9",
   "metadata": {},
   "outputs": [
    {
     "data": {
      "text/plain": [
       "{'restaurant_name': 'Desert Spice Bazaar',\n",
       " 'menu_items': 'Saffron-infused Chicken Biryani, Cardamom Crème Brûlée, Rosewater Panna Cotta, Pistachio Kulfi, Coconut Ladoo, Ginger and Honey Cake, Lemon and Rose Petal Sorbet, Cinnamon Swirl Coffee Cake, Orange Blossom Pudding, Chai Spice Crème Caramel',\n",
       " 'description': 'Desert Spice Bazaar is a charming eatery offering a rich and exotic array of Middle Eastern-inspired desserts and international fusion sweets. From traditional Saffron-infused Chicken Biryani to innovative desserts like Cardamom Crème Brûlée and Rosewater Panna Cotta, every treat is infused with unique spices and flavors.'}"
      ]
     },
     "execution_count": 82,
     "metadata": {},
     "output_type": "execute_result"
    }
   ],
   "source": [
    "combined_chain.invoke({\n",
    "    \"cuisine\" : \"Indian\"\n",
    "})"
   ]
  },
  {
   "cell_type": "code",
   "execution_count": null,
   "id": "31751cb4",
   "metadata": {},
   "outputs": [],
   "source": []
  }
 ],
 "metadata": {
  "kernelspec": {
   "display_name": ".venv (3.13.5)",
   "language": "python",
   "name": "python3"
  },
  "language_info": {
   "codemirror_mode": {
    "name": "ipython",
    "version": 3
   },
   "file_extension": ".py",
   "mimetype": "text/x-python",
   "name": "python",
   "nbconvert_exporter": "python",
   "pygments_lexer": "ipython3",
   "version": "3.13.5"
  }
 },
 "nbformat": 4,
 "nbformat_minor": 5
}
